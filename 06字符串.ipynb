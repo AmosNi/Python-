{
 "nbformat": 4,
 "nbformat_minor": 2,
 "metadata": {
  "language_info": {
   "name": "python",
   "codemirror_mode": {
    "name": "ipython",
    "version": 3
   },
   "version": "3.7.6-final"
  },
  "orig_nbformat": 2,
  "file_extension": ".py",
  "mimetype": "text/x-python",
  "name": "python",
  "npconvert_exporter": "python",
  "pygments_lexer": "ipython3",
  "version": 3,
  "kernelspec": {
   "name": "python3",
   "display_name": "Python 3"
  }
 },
 "cells": [
  {
   "cell_type": "code",
   "execution_count": 4,
   "metadata": {},
   "outputs": [
    {
     "output_type": "stream",
     "name": "stdout",
     "text": "I love\ne\nI love Blue Blue\n"
    }
   ],
   "source": [
    "#类似元组的操作\n",
    "str1 = 'I love Blue'\n",
    "print (str1[:6])#切片\n",
    "print (str1[5])#索引\n",
    "print (str1[:6] + ' Blue' + str1[6:])#拼接"
   ]
  },
  {
   "cell_type": "markdown",
   "metadata": {},
   "source": [
    "# 字符串内置方法  \n",
    "\n",
    "## 大小写互转  \n",
    "\n",
    "|方法|作用|\n",
    "|-|-|\n",
    "|`capitalize()`|把字符串的第一个字符改为大写|\n",
    "|`casefold()`|把整个字符串的所有字符改为小写|\n",
    "|`lower()`|转换字符串中所有大写字符为小写|\n",
    "|`upper()`|转换字符串中的所有小写字符为大写|\n",
    "|`swapcase()`|翻转字符串中的大小写|\n",
    "|`title()`|返回标题化（所有的单词都是以大写开始，其余字母均小写）的字符串|  \n",
    "\n",
    "## 判断元素  \n",
    "\n",
    "|方法|作用|\n",
    "|-|-|\n",
    "|`isspace()`|如果字符串中只包含空格，则返回`True`，否则返回`False`|\n",
    "|`istitle()`|如果字符串是标题化（所有的单词都是以大写开始，其余字母均小写），则返回`True`，否则返回`False`|\n",
    "|`islower()`|如果字符串中至少包含一个区分大小写的字符，并且这些字符都是小写，则返回`True`，否则返回`False`|\n",
    "|`isupper()`|如果字符串中至少包含一个区分大小写的字符，并且这些字符都是大写，则返回`True`，否则返回`False`|\n",
    "|`isalpha()`|如果字符串至少有一个字符并且所有字符都是字母则返回`True`，否则返回`False`|\n",
    "|`isalnum()`|如果字符串至少有一个字符并且所有字符都是字母或数字则返回`True`，否则返回`False`|\n",
    "|`isdigit()`|如果字符串只包含数字则返回`True`，否则返回`False`|\n",
    "|`isnumeric()`|如果字符串中只包含数字字符，则返回`True`，否则返回`False`|\n",
    "|`isdecimal()`|如果字符串只包含十进制数字则返回`True`，否则返回`False`|\n",
    "|`endswith(sub[, start[, end]])`|检查字符串是否以`sub`子字符串结束，如果是返回`True`，否则返回`False`；`start`和`end`参数表示范围，可选|\n",
    "|`startswith(prefix[, start[, end]])`|检查字符串是否以`prefix`开头，是则返回`True`，否则返回`False`；`start`和`end`参数可以指定范围检查，可选|"
   ]
  },
  {
   "cell_type": "code",
   "execution_count": 5,
   "metadata": {},
   "outputs": [
    {
     "output_type": "stream",
     "name": "stdout",
     "text": "True\nTrue\nTrue\n"
    }
   ],
   "source": [
    "\"\"\"\n",
    "isdigit()\n",
    "True: Unicode数字，byte数字（单字节），全角数字（双字节），罗马数字\n",
    "False: 汉字数字\n",
    "Error: 无\n",
    "\n",
    "isdecimal()\n",
    "True: Unicode数字，，全角数字（双字节）\n",
    "False: 罗马数字，汉字数字\n",
    "Error: byte数字（单字节）\n",
    "\n",
    "isnumeric()\n",
    "True: Unicode数字，全角数字（双字节），罗马数字，汉字数字\n",
    "False: 无\n",
    "Error: byte数字（单字节）\n",
    "\"\"\"\n",
    "\n",
    "num = \"1\"  #unicode\n",
    "print (num.isdigit())\n",
    "print (num.isdecimal())\n",
    "print (num.isnumeric())"
   ]
  },
  {
   "cell_type": "code",
   "execution_count": 6,
   "metadata": {},
   "outputs": [
    {
     "output_type": "stream",
     "name": "stdout",
     "text": "True\nTrue\nTrue\n"
    }
   ],
   "source": [
    "num = \"1\" # 全角\n",
    "print (num.isdigit())\n",
    "print (num.isdecimal())\n",
    "print (num.isnumeric())"
   ]
  },
  {
   "cell_type": "code",
   "execution_count": 8,
   "metadata": {},
   "outputs": [
    {
     "output_type": "stream",
     "name": "stdout",
     "text": "True\n"
    }
   ],
   "source": [
    "num = b\"1\" # byte\n",
    "print (num.isdigit())\n",
    "# num.isdecimal() # AttributeError 'bytes' object has no attribute 'isdecimal'\n",
    "# num.isnumeric() # AttributeError 'bytes' object has no attribute 'isnumeric'"
   ]
  },
  {
   "cell_type": "code",
   "execution_count": 9,
   "metadata": {},
   "outputs": [
    {
     "output_type": "stream",
     "name": "stdout",
     "text": "False\nFalse\nFalse\n"
    }
   ],
   "source": [
    "num = \"IV\" # 罗马数字\n",
    "print (num.isdigit())\n",
    "print (num.isdecimal())\n",
    "print (num.isnumeric())"
   ]
  },
  {
   "cell_type": "code",
   "execution_count": 10,
   "metadata": {},
   "outputs": [
    {
     "output_type": "stream",
     "name": "stdout",
     "text": "False\nFalse\nTrue\n"
    }
   ],
   "source": [
    "num = \"四\" # 汉字\n",
    "print (num.isdigit())\n",
    "print (num.isdecimal())\n",
    "print (num.isnumeric())"
   ]
  },
  {
   "cell_type": "markdown",
   "metadata": {},
   "source": [
    "## 查找元素  \n",
    "\n",
    "|方法|作用|\n",
    "|-|-|\n",
    "|`find(sub[, start[, end]])`|检测`sub`是否包含在字符串中，如果有则返回索引值，否则返回`-1`，`start`和`end`参数表示范围，可选|\n",
    "|`index(sub[, start[, end]])`|跟`find`方法一样，不过如果`sub`不在`string`中会产生一个异常|\n",
    "|`rfind(sub[, start[, end]])`|类似于`find()`方法，不过是从右边开始查找|\n",
    "|`rindex(sub[, start[, end]])`|类似于`index()`方法，不过是从右边开始|\n",
    "|`count(sub[, start[, end]])`|返回`sub`在字符串里边出现的次数，`start`和`end`参数表示范围，可选|  \n",
    "\n",
    "## 分割字符串\n",
    "|方法|作用|\n",
    "|-|-|\n",
    "|`partition(sub)`|找到子字符串`sub`，把字符串分成一个3元组`(pre_sub, sub, fol_sub)`，如果字符串中不包含`sub`则返回`('原字符串', '', '')`|\n",
    "|`rpartition(sub)`|类似于`partition()`方法，不过是从右边开始查找|\n",
    "|`split(sep=None, maxsplit=-1)`|不带参数默认是以空格为分隔符切片字符串，如果`maxsplit`参数有设置，则仅分隔`maxsplit`个子字符串，返回切片后的子字符串拼接的列表|  \n",
    "\n",
    "## 修改字符串\n",
    "|方法|作用|\n",
    "|-|-|\n",
    "|`encode(encoding='utf-8', errors='strict')`|以`encoding`指定的编码格式对字符串进行编码|\n",
    "|`center(width)`|将字符串居中，并使用空格填充至长度`width`的新字符串|\n",
    "|`ljust(width)`|返回一个左对齐的字符串，并使用空格填充至长度为`width`的新字符串|\n",
    "|`rjust(width)`|返回一个右对齐的字符串，并使用空格填充至长度为`width`的新字符串|\n",
    "|`expandtabs([tabsize=8])`|把字符串中的`tab`符号（\\t）转换为空格，如不指定参数，默认的空格数是`tabsize=8`|\n",
    "|`join(sub)`|以字符串作为分隔符，插入到`sub`中所有的字符之间|\n",
    "|`lstrip()`|去掉字符串左边的所有空格|\n",
    "|`rstrip()`|删除字符串末尾的空格|\n",
    "|`strip([chars])`|删除字符串前边和后边所有的空格，`chars`参数可以定制删除的字符，可选|\n",
    "|`zfill(width)`|返回长度为`width`的字符串，原字符串右对齐，前边用0填充|\n",
    "|`replace(old, new[, count])`|把字符串中的`old`子字符串替换成`new`子字符串，如果`count`指定，则替换不超过`count`次|\n",
    "|`translate(table)`|根据`table`的规则（可以由`str.maketrans('a', 'b')`定制）转换字符串中的字符|\n",
    "|`splitlines(([keepends]))`|在输出结果里是否去掉换行符，默认为`False`，不包含换行符；如果为`True`，则保留换行符|"
   ]
  },
  {
   "cell_type": "code",
   "execution_count": 11,
   "metadata": {},
   "outputs": [
    {
     "output_type": "stream",
     "name": "stdout",
     "text": "11ddcnuuinufrcmi\n{97: 49}\n"
    }
   ],
   "source": [
    "# translate(table)\n",
    "str2 = 'aaddcnuuinufrcmi'\n",
    "print (str2.translate(str.maketrans('a','1')))\n",
    "print (str.maketrans('a','1'))"
   ]
  }
 ]
}