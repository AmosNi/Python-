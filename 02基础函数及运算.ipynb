{
 "nbformat": 4,
 "nbformat_minor": 2,
 "metadata": {
  "language_info": {
   "name": "python",
   "codemirror_mode": {
    "name": "ipython",
    "version": 3
   },
   "version": "3.7.6-final"
  },
  "orig_nbformat": 2,
  "file_extension": ".py",
  "mimetype": "text/x-python",
  "name": "python",
  "npconvert_exporter": "python",
  "pygments_lexer": "ipython3",
  "version": 3,
  "kernelspec": {
   "name": "python3",
   "display_name": "Python 3"
  }
 },
 "cells": [
  {
   "cell_type": "markdown",
   "metadata": {},
   "source": [
    "# 接收用户输入函数input  \n",
    "## 1. 函数原型  \n",
    "- `input([prompt])`  \n",
    "    - `input()`函数从标准输入流中读取一行数据，将其转换为字符串（末尾的换行符将被舍弃）后并返回。  \n",
    "    如果读取到 EOF，则抛出 EOFError 异常。  \n",
    "\n",
    "## 2. 参数解析<br/>\n",
    "|参数|含义|\n",
    "|-|-|\n",
    "|prompt| 如果指定该参数，那么将在标准输出中将参数的内容显示出来（末尾不会自动追加换行）|  \n",
    "\n",
    "## 3.返回值  \n",
    "该函数将读取到的输入转换成字符串（末尾的换行符将被舍弃）并返回。"
   ]
  },
  {
   "cell_type": "code",
   "execution_count": 6,
   "metadata": {},
   "outputs": [
    {
     "name": "stdout",
     "output_type": "stream",
     "text": "姓名是： Amos\n"
    }
   ],
   "source": [
    "#接收用户输入的数据 input函数\n",
    "temp = input(\"请输入姓名：\")\n",
    "print(\"姓名是：\",temp)"
   ]
  },
  {
   "cell_type": "markdown",
   "metadata": {},
   "source": [
    "# 模块random  \n",
    "- 实现各种分布的伪随机数生成器\n",
    "## 1. 模块中函数概要  \n",
    "- `random.randint(x,y)`：返回x，y间（包含）的一个整数  \n",
    "- `random.getstate()`：获取随机数生成器状态  \n",
    "- `random.setstate()`：设置随机数生成器状态"
   ]
  },
  {
   "cell_type": "code",
   "execution_count": 5,
   "metadata": {},
   "outputs": [
    {
     "name": "stdout",
     "output_type": "stream",
     "text": "2 4 2 5 1 10\n2 4 2 5 1 10\n"
    }
   ],
   "source": [
    "#随机数重现\n",
    "import random\n",
    "x = random.getstate() #获取当前随机数生成器状态\n",
    "r1=random.randint(1,10);r2=random.randint(1,10);r3=random.randint(1,10)\n",
    "r4=random.randint(1,10);r5=random.randint(1,10);r6=random.randint(1,10)\n",
    "print(r1,r2,r3,r4,r5,r6)\n",
    "random.setstate(x)    #应用“r”序列随机数的状态\n",
    "s1=random.randint(1,10);s2=random.randint(1,10);s3=random.randint(1,10)\n",
    "s4=random.randint(1,10);s5=random.randint(1,10);s6=random.randint(1,10)\n",
    "print(s1,s2,s3,s4,s5,s6)"
   ]
  },
  {
   "cell_type": "code",
   "execution_count": 3,
   "metadata": {},
   "outputs": [
    {
     "name": "stdout",
     "output_type": "stream",
     "text": "----猜数字----\nBIG\nBIG\n很遗憾，没猜对\n游戏结束\n"
    }
   ],
   "source": [
    "'''设计一个小游戏'''\n",
    "##涉及：分支语法，比较运算符，算术运算符，循环语法，嵌套，random模块\n",
    "#coding=utf-8\n",
    "import random #使用random模块\n",
    "print(\"----猜数字----\")\n",
    "secret = random.randint(1,10) #randint():返回一个随机整数\n",
    "cai = int(input(\"请输入一个数字：\")) #input输入为字符型str，用int转整型\n",
    "i = 1 #计数器，猜了几次\n",
    "while cai != secret and i < 3: #while循环\n",
    "    if cai > secret:           #if，else条件分支\n",
    "        print(\"BIG\")\n",
    "    else:\n",
    "        print(\"SMALL\")\n",
    "    i = i + 1\n",
    "    cai = int(input(\"猜错了，请再输入一个数字：\"))\n",
    "if cai == secret:\n",
    "    print(\"猜中了，真厉害\")\n",
    "else:\n",
    "    print(\"很遗憾，没猜对\")\n",
    "print(\"游戏结束\")"
   ]
  },
  {
   "cell_type": "markdown",
   "metadata": {},
   "source": [
    "# 数值类型"
   ]
  },
  {
   "cell_type": "code",
   "execution_count": 10,
   "metadata": {},
   "outputs": [
    {
     "name": "stdout",
     "output_type": "stream",
     "text": "0.30000000000000004\n \n0.1\n0.2\n0.30000000000000004\n0.4\n0.5\n0.6\n0.7\n0.7999999999999999\n0.8999999999999999\n0.9999999999999999\n1.0999999999999999\n"
    },
    {
     "data": {
      "text/plain": "False"
     },
     "execution_count": 10,
     "metadata": {},
     "output_type": "execute_result"
    }
   ],
   "source": [
    "#Python整数长度精度不受限制\n",
    "#Python浮点数精度不足\n",
    "print(0.1+0.2)\n",
    "print(' ')\n",
    "\n",
    "z = 0\n",
    "while z < 1:\n",
    "    z = z + 0.1\n",
    "    print(z)\n",
    "\n",
    "0.3 == 0.1 + 0.2  "
   ]
  },
  {
   "cell_type": "code",
   "execution_count": 20,
   "metadata": {},
   "outputs": [
    {
     "name": "stdout",
     "output_type": "stream",
     "text": "0.3\n"
    },
    {
     "data": {
      "text/plain": "True"
     },
     "execution_count": 20,
     "metadata": {},
     "output_type": "execute_result"
    }
   ],
   "source": [
    "#精确计算浮点数 decimal模块\n",
    "#decimal:十进制定点和浮点运算\n",
    "import decimal\n",
    "m = decimal.Decimal('0.1')\n",
    "n = decimal.Decimal('0.2')\n",
    "q = decimal.Decimal('0.3')\n",
    "print(m + n)\n",
    "q == m + n  # 此处不可直接 0.3 == m + n，不同类型，decimal中是字符型or整型"
   ]
  },
  {
   "cell_type": "code",
   "execution_count": 13,
   "metadata": {},
   "outputs": [
    {
     "name": "stdout",
     "output_type": "stream",
     "text": "(1+2j) 1.0 2.0\n"
    }
   ],
   "source": [
    "#复数\n",
    "d = 1 + 2j\n",
    "print(d,d.real,d.imag) #实部和虚部均以浮点数形式存放"
   ]
  },
  {
   "cell_type": "markdown",
   "metadata": {},
   "source": [
    "# Python数值计算  \n",
    "## Python支持的数值计算类型  \n",
    "![image](https://github.com/AmosNi/PythonStudy/blob/master/%E6%95%B0%E5%80%BC%E8%AE%A1%E7%AE%97%E8%BF%90%E7%AE%97%E7%AC%A6.png?raw=true)  \n",
    "\n",
    "## divmod()函数  \n",
    "### 1. 函数原型  \n",
    "- `divmod(a, b)`  \n",
    "    - `divmod()`函数用于获取两个数字参数（非复数）的地板除结果和余数。  \n",
    "    - 如果两个参数都是整数，则结果相当于 `(a // b, a % b)`  \n",
    "    - 如果两个参数是浮点数，则结果相当于`(q, a % b)`，其中`q`通常是`math.floor(a / b)`，但可能小于1。在任何情况下，`q * b + a % b`都非常接近a，如果`a % b`的值为非零，则它具有与b相同的符号，且`0 <= abs(a % b) < abs(b)`  \n",
    "\n",
    "### 2. 参数解析<br/>\n",
    "|参数|含义|\n",
    "|-|-|\n",
    "|a| 指定被除数|\n",
    "|b| 指定除数|  \n",
    "\n",
    "### 3.返回值  \n",
    "两个数字参数（非复数）的地板除结果和余数。  \n",
    "\n",
    "## abs()函数  \n",
    "### 1. 函数原型  \n",
    "- `abs(x)`  \n",
    "    - `abs()`函数用于返回指定数值的绝对值  \n",
    "    - 参数可以是整数或者浮点数  \n",
    "    - 参数如果是复数的话，则返回该复数的模  \n",
    "\n",
    "### 2. 参数解析<br/>\n",
    "|参数|含义|\n",
    "|-|-|\n",
    "|x| 指定一个数值|  \n",
    "\n",
    "### 3.返回值  \n",
    "- 如果参数是整数或浮点数，返回参数的绝对值  \n",
    "- 如果参数是复数，返回参数的模  \n",
    "\n",
    "## pow()函数  \n",
    "### 1. 函数原型  \n",
    "- `pow(x, y[, z])`  \n",
    "    - `pow()`函数用于进行幂运算  \n",
    "    - 该函数有3个参数，如果第3个参数z存在，则对z进行取余（这比直接`pow(x, y) % z`计算更高效）  \n",
    "    - 两个参数形式的`pow(x, y)`等价于幂运算符`x**y`  \n",
    "\n",
    "### 2. 参数解析<br/>\n",
    "|参数|含义|\n",
    "|-|-|\n",
    "|x| 指定幂运算的底数|  \n",
    "|y| 指定幂运算的指数|  \n",
    "|z| 可选参数，如果该参数存在，则对该参数进行取余数运算|  \n",
    "\n",
    "注：如果第2个参数是负数，则第3个参数将被忽略；如果第3个参数存在，则第1、2个参数都必须是整数，且第2个参数不能是负数  \n",
    "\n",
    "### 3.返回值  \n",
    "- 返回幂运算的结果"
   ]
  },
  {
   "cell_type": "code",
   "execution_count": 22,
   "metadata": {},
   "outputs": [
    {
     "name": "stdout",
     "output_type": "stream",
     "text": "地板除结果示例\n1.5\n1\n-2\n取余结果示例\n1\n0\ndivmod函数示例\n(1, 1)\n(2.0, 0.6000000000000001)\nabs函数示例\n520\n3.14\n2.23606797749979\npow函数示例\n8\n0.125\n3\n"
    }
   ],
   "source": [
    "#Python数值计算\n",
    "#地板除：向下取整\n",
    "print('地板除结果示例')\n",
    "print(3/2)\n",
    "print(3//2)\n",
    "print(-3//2)\n",
    "#!!!取余,Python里不再有 “mod（）”\n",
    "print('取余结果示例')\n",
    "print(3 % 2)\n",
    "print(6 % 2)\n",
    "# X = (x // y) * y + (x % y) 地板除结果 × 除数 + 除法余数 = 被除数\n",
    "# divmod函数，同时返回地板除和取余的结果\n",
    "print('divmod函数示例')\n",
    "print(divmod(3,2))\n",
    "print(divmod(3,1.2))\n",
    "# abs函数，绝对值\n",
    "print('abs函数示例')\n",
    "print(abs(-520))    #整数\n",
    "print(abs(-3.14))   #浮点数\n",
    "print(abs(1 + 2j))  #复数\n",
    "# pow函数，幂函数\n",
    "print('pow函数示例')\n",
    "print(pow(2, 3))    #2^3\n",
    "print(pow(2, -3))   #2^(-3)\n",
    "print(pow(2, 3, 5)) # 2^3 % 5"
   ]
  },
  {
   "cell_type": "markdown",
   "metadata": {},
   "source": [
    "# 类型转换函数int;str;float;complex  \n",
    "## 1. 函数原型  \n",
    "- `class int(x, base=10)`  \n",
    "    - `int()`用于将指定的值转换成整数。  \n",
    "    - `int()`如果读取到一个无法转换为整数的参数，则抛出`ValueError`的异常。\n",
    "- `class float([x])`  \n",
    "    - `float()`用于将指定的值转换成浮点数。  \n",
    "    - 如果参数是`Infinity`或`inf`，表示这是一个正无穷大的浮点数。  \n",
    "    - 如果参数是`nan`，表示这不是一个数（Not A Number）。  \n",
    "    - `float()`函数如果读取到一个无法转换为浮点数的参数，则抛出`ValueError`的异常。  \n",
    "    - 如果参数在`Python`浮点精度范围之外，则抛出`OverflowError`的异常。  \n",
    "- `class float([x])`  \n",
    "    - `complex()`用于将指定的值转换成复数。  \n",
    "    - 当参数是字符串时，`+`或`-`的两边必须不能有空格，例如`complex('1+2j')`是合法的，但`complex('1 + 2j')`则会触发`ValueError`异常。  \n",
    "\n",
    "## 2. 参数解析<br/>\n",
    "|参数|含义|\n",
    "|-|-|\n",
    "|x| 指定待转换的数字或字符串|  \n",
    "|base| 指定x参数的基数（默认值是 10）|  \n",
    "\n",
    "注：如果需要指定`base`参数，则`x`参数的值必须是字符串、字节或者字节数组  \n",
    "\n",
    "## 3.返回值  \n",
    "- `int()`  \n",
    "    - 将`x`参数指定的值转换为整数并返回  \n",
    "    - 如果不传递任何参数，返回值是0  \n",
    "    - 如果传递的是一个浮点数，那么小数点后的数字将被截掉(截断取整)  \n",
    "- `float()`  \n",
    "    - 返回转换后的浮点数  \n",
    "    - 如果不传递任何参数，返回值是0.0  \n",
    "    - 如果参数是`Infinity`或`inf`，返回`inf`  \n",
    "    - 如果参数是`nan`，返回`nan`  \n",
    "- `complex()`  \n",
    "    - 返回值是`real + imag*1j`格式的复数。"
   ]
  },
  {
   "cell_type": "code",
   "execution_count": 21,
   "metadata": {},
   "outputs": [
    {
     "name": "stdout",
     "output_type": "stream",
     "text": "a1= 5 a2= 6 a3= 255\nb= 5.0 b1= 3.44 b2= 0.001 b3= 1000000.0\nc= 0j c1= (1+2j) c2= (520+0j) c3= (-0-3.14j)\n<class 'float'>\nFalse\nFalse\nTrue\n"
    }
   ],
   "source": [
    "#类型转换函数 int();str();float()\n",
    "a = 5.99\n",
    "a1 = int(a)        #浮点数转化成整数，Python截断取整\n",
    "a2 = int(\"110\", 2) #字符型转整型，指定基数为2（二进制）\n",
    "a3 = int(\"FF\", 16) #指定基数为16（十六进制）\n",
    "# int(\"FishC\") float(\"FishC\") 指定的参数无法转换为整数\n",
    "print(\"a1=\",a1,\"a2=\",a2,\"a3=\",a3)\n",
    "b = float(a1)\n",
    "b1 = float('3.44')   #字符型转浮点型\n",
    "b2 = float('1e-003') #传入科学计数法格式的值\n",
    "b3 = float('+1E6')\n",
    "print(\"b=\",b,\"b1=\",b1,\"b2=\",b2,\"b3=\",b3)\n",
    "c = complex() #不传递任何参数\n",
    "c1 = complex(\"1+2j\") #将字符串转换为复数\n",
    "c2 = complex(520) #将整数转换为复数\n",
    "c3 = complex(-3.14j) #将浮点数转换为复数\n",
    "# complex(\"1 + 2j\") 错误！字符串的中间不能有空格！\n",
    "print(\"c=\",c,\"c1=\",c1,\"c2=\",c2,\"c3=\",c3)\n",
    "#获取变量类型  type() isistance()\n",
    "print(type(a))\n",
    "print(isinstance(a,int))\n",
    "print(isinstance(a,str))\n",
    "print(isinstance(a,float))"
   ]
  },
  {
   "cell_type": "markdown",
   "metadata": {},
   "source": [
    "# 布尔类型  \n",
    "![image](https://github.com/AmosNi/PythonStudy/blob/master/%E5%B8%83%E5%B0%94%E7%B1%BB%E5%9E%8B%E6%80%9D%E7%BB%B4%E5%AF%BC%E5%9B%BE.png?raw=true)  \n",
    "\n",
    "## 1. 认识  \n",
    "- 布尔类型的值只有两个：True 或者 False，也就是 “真” 或者 “假”  \n",
    "\n",
    "## 2. Bool()函数  \n",
    "### 2.1 函数原型  \n",
    "- `class bool([x])`  \n",
    "    - `bool()`用于返回一个布尔类型的值（`True`或者`False`）  \n",
    "    - `bool`是`int`的子类，它不能够被进一步继承  \n",
    "    - `bool`的实例化对象只有`True`和`False`两个  \n",
    "\n",
    "### 2.2 参数解析  \n",
    "|参数|含义|\n",
    "|-|-|\n",
    "|x| 该参数将通过标准的真值测试进行转换|  \n",
    "\n",
    "### 2.3 返回值  \n",
    "- 返回一个布尔类型的值（`True`或者`False`）  \n",
    "\n",
    "## 3. Bool返回值为假的情况  \n",
    "- 定义为`False`的对象：`None`和`False`  \n",
    "- 值为0的数字类型：`0`,`0.0`,`0j`,`Decimal(0)`,`Fraction(0, 1)`  \n",
    "- 空的序列和集合：`''`,`()`,`[]`,`{}`,`set()`,`range(0)`  "
   ]
  },
  {
   "cell_type": "code",
   "execution_count": 24,
   "metadata": {},
   "outputs": [
    {
     "name": "stdout",
     "output_type": "stream",
     "text": "1 True\n2 False\n3 True\n4 True\n5 False\n6 False\n"
    }
   ],
   "source": [
    "print(1,bool(250))\n",
    "print(2,bool(0.0))\n",
    "print(3,bool(\"False\"))\n",
    "print(4,bool(\"假\"))\n",
    "print(5,bool([]))\n",
    "print(6,bool(range(0)))"
   ]
  },
  {
   "cell_type": "markdown",
   "metadata": {},
   "source": [
    "## 逻辑运算符（布尔运算）  \n",
    "### Python共有3个逻辑运算符：`and`，`or`和`not`（与或非）  \n",
    "- `and`：左边和右边同时为True,结果为True（一假即假，都真才真）  \n",
    "- `or`：左边或右边其中一个为True,结果为True（一真即真，都假才假）  \n",
    "- `not`：如果操作数为True,结果为False；如果操作数为False,结果为True（反）  \n",
    "\n",
    "### True值为1，False值为0  \n",
    "\n",
    "### `and`和`or`运算\n",
    "- 操作数\n",
    "    - 计算结果不一定是`True`或`False`\n",
    "    - 若给到操作数的是两个数值，那么它的运算结果也是数值\n",
    "    - 若给到操作数的是两个字符串，那么它的结果也是字符串\n",
    "- 短路逻辑  \n",
    "    - **核心思想**：从左往右，只有当第一个操作数的值无法确定逻辑运算的结果时，才对第二个操作数进行求值"
   ]
  },
  {
   "cell_type": "code",
   "execution_count": 1,
   "metadata": {},
   "outputs": [
    {
     "name": "stdout",
     "output_type": "stream",
     "text": "4\n3\n0\n3\n4\n"
    }
   ],
   "source": [
    "#短路逻辑示意\n",
    "print(3 and 4)  #3：True，and运算，还需要操作4才能出结果\n",
    "print(3 or 4)   #3：True，or运算，一真即真，出结果\n",
    "print(0 and 3)  #0：False，and运算，一假即假，出结果\n",
    "print(0 or 3)   #0：False，or运算，还需要操作3才能出结果\n",
    "print((not 1) or (0 and 1) or (3 and 4) or (5 and 6) or (7 and 8 and 9)) #False or 0 or 4 or 6 or 9"
   ]
  },
  {
   "cell_type": "markdown",
   "metadata": {},
   "source": [
    "# 运算符优先级\n",
    "![image](https://github.com/AmosNi/PythonStudy/blob/master/%E8%BF%90%E7%AE%97%E7%AC%A6%E4%BC%98%E5%85%88%E7%BA%A7.jpg?raw=true)"
   ]
  },
  {
   "cell_type": "code",
   "execution_count": 2,
   "metadata": {},
   "outputs": [
    {
     "name": "stdout",
     "output_type": "stream",
     "text": "4\nTrue\nFalse\n"
    }
   ],
   "source": [
    "print(not 2 or 0 and 1 or 3 and 4 or 5 and 6 or 7 and 8 and 9) #优先级 not > and > or\n",
    "# print(False or 0 and 1 or 3 and 4 or 5 and 6 or 7 and 8 and 9)\n",
    "# print(False or 0 or 4 or 6 or 9)\n",
    "print(1 + 2 > 3 - 4)  # 优先级 算数 > 比较\n",
    "print(not 1 < 2)      # 优先级 比较 > 逻辑"
   ]
  },
  {
   "cell_type": "code",
   "execution_count": null,
   "metadata": {},
   "outputs": [],
   "source": []
  }
 ]
}