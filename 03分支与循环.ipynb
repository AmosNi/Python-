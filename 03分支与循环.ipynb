{
 "nbformat": 4,
 "nbformat_minor": 2,
 "metadata": {
  "language_info": {
   "name": "python",
   "codemirror_mode": {
    "name": "ipython",
    "version": 3
   },
   "version": "3.7.6-final"
  },
  "orig_nbformat": 2,
  "file_extension": ".py",
  "mimetype": "text/x-python",
  "name": "python",
  "npconvert_exporter": "python",
  "pygments_lexer": "ipython3",
  "version": 3,
  "kernelspec": {
   "name": "python3",
   "display_name": "Python 3"
  }
 },
 "cells": [
  {
   "cell_type": "markdown",
   "metadata": {},
   "source": [
    "一定要有“：”\n",
    "# 分支结构（`if`语句）\n",
    "## 语法结构1\n",
    "- 判断一个条件，如果这个条件成立，就执行其包含的某条语句或某个代码块  \n",
    "- ```Python  \n",
    "if <conditions>:  \n",
    "    statement(s)  \n",
    "```  \n",
    "```\n",
    "  \n",
    "## 语法结构2  \n",
    "- 判断一个条件，如果条件成立，就执行其包含的某条语包或某个代码块；如果条件不成立，就执行另外的某条语句或某个代码块\n",
    "- ```Python  \n",
    "if <conditions>:  \n",
    "    <statements>\n",
    "else:\n",
    "    <statements>\n",
    "```  \n",
    "```  \n",
    "\n",
    "## 语法结构3\n",
    "- 判断多个条件，如果第1个条件不成立，则继续判断第2个条件，如果第2个条件还不成立，则接着判断第3个条件……\n",
    "- ```Python  \n",
    "if <condition1>:  \n",
    "    <statements>\n",
    "elif <condition2>:\n",
    "    <statements>\n",
    "elif <condition3>:\n",
    "    <statements>\n",
    "……\n",
    "```  \n",
    "```\n",
    "\n",
    "## 语法结构4\n",
    "- 在第3种的情况下添加一个`else`,表示上面所有的条件均不成立的情况下，执行某条语包或某个代码块\n",
    "- ```Python  \n",
    "if <condition1>:  \n",
    "    <statements>\n",
    "elif <condition2>:\n",
    "    <statements>\n",
    "else:\n",
    "    <statements>\n",
    "```  \n",
    "```\n",
    "\n",
    "## 语法结构5（条件表达式）\n",
    "- 三元操作符\n",
    "- ```条件成立时执行的语句 if <condition> else 条件不成立时执行的语句```"
   ]
  },
  {
   "cell_type": "code",
   "execution_count": 1,
   "metadata": {},
   "outputs": [
    {
     "name": "stdout",
     "output_type": "stream",
     "text": "3\n3\n"
    }
   ],
   "source": [
    "# 条件表达式\n",
    "a = 3\n",
    "b = 5\n",
    "if a < b:\n",
    "    small = a\n",
    "else:\n",
    "    small = b\n",
    "print(small)\n",
    "small1 = a if a < b else b\n",
    "print(small1)"
   ]
  },
  {
   "cell_type": "markdown",
   "metadata": {},
   "source": [
    "# 分支结构的嵌套（典型结构）\n",
    "- ```Python\n",
    "if <conditions>:\n",
    "    <statements>\n",
    "else:\n",
    "    if <conditions>:\n",
    "        <statements>\n",
    "```  \n",
    "```\n",
    "\n",
    "## `assert`关键字（断言）\n",
    "- `assert`关键字后边的条件为假的时候，程序自动崩溃并抛出`AssertionError`的异常\n",
    "- 一般用于在程序中置入检查点，当需要确保程序中的某个条件一定为真才能让程序正常工作的话，`assert`就非常有用了\n",
    "\n",
    "# 循环结构\n",
    "## `while`循环\n",
    "- ```Python\n",
    "while <condition>:\n",
    "    <statements>\n",
    "else:\n",
    "    <statements>\n",
    "```  \n",
    "```\n",
    "\n",
    "## `for`循环\n",
    "- ```Python\n",
    "for <variable> in <sequence>:\n",
    "    <statements>\n",
    "else:\n",
    "    <statements>\n",
    "```  \n",
    "```\n",
    "\n",
    "## `range()`函数\n",
    "### 1. 函数原型  \n",
    "- `range([start,] stop[, step])`  \n",
    "    - `range()`函数可创建一个整数列表，一般用在`for`循环中  \n",
    "\n",
    "### 2. 参数解析<br/>\n",
    "|参数|含义|\n",
    "|-|-|\n",
    "|start| 计数从start开始。默认=0|\n",
    "|stop| 计数到stop结束，但不包括stop|\n",
    "|step|步长。默认=1|  \n",
    "\n",
    "### 3.返回值  \n",
    "一个整数列表（前闭后开）  \n",
    "\n",
    "## 方法`break` \n",
    "- 跳出当前一个循环  \n",
    "\n",
    "## 方法`continue`\n",
    "- 中止本轮循环，并开始下一轮循环（会测试循环条件）"
   ]
  },
  {
   "cell_type": "code",
   "execution_count": 2,
   "metadata": {},
   "outputs": [
    {
     "name": "stdout",
     "output_type": "stream",
     "text": "2\n1\n4\n3\n6\n5\n8\n7\n10\n9\n"
    }
   ],
   "source": [
    "# for循环, range, continue\n",
    "for i in range(10):\n",
    "    if i % 2 != 0:\n",
    "        print(i)\n",
    "        continue\n",
    "    i += 2\n",
    "    print(i)"
   ]
  },
  {
   "cell_type": "code",
   "execution_count": 8,
   "metadata": {},
   "outputs": [
    {
     "name": "stdout",
     "output_type": "stream",
     "text": "0\n1\n2\n3\n4\n5\n6\n7\n8\n9\n当前字母: P\n当前字母: y\n当前字母: t\n当前字母: h\n当前字母: o\n当前字母: n\n当前水果: banana\n当前水果: apple\n当前水果: mango\n当前水果: banana\n当前水果: apple\n当前水果: mango\n"
    }
   ],
   "source": [
    "# 这里和Matlab不一样，i的返回值进入新循环弃用\n",
    "for i in range (10):\n",
    "    print(i)\n",
    "    i = i + 2\n",
    "\n",
    "# 序列可以是字符串，可以是元组\n",
    "for letter in 'Python':    \n",
    "    print ('当前字母:', letter)\n",
    "\n",
    "fruits = ['banana', 'apple',  'mango']\n",
    "for fruit in fruits:       \n",
    "    print ('当前水果:', fruit)\n",
    "# 通过序列索引迭代\n",
    "fruits = ['banana', 'apple',  'mango']\n",
    "for index in range(len(fruits)):\n",
    "    print ('当前水果:', fruits[index])"
   ]
  },
  {
   "cell_type": "code",
   "execution_count": 9,
   "metadata": {},
   "outputs": [
    {
     "name": "stdout",
     "output_type": "stream",
     "text": "10 等于 2 * 5\n11 是一个质数\n12 等于 2 * 6\n13 是一个质数\n14 等于 2 * 7\n15 等于 3 * 5\n16 等于 2 * 8\n17 是一个质数\n18 等于 2 * 9\n19 是一个质数\n"
    }
   ],
   "source": [
    "# 使用else\n",
    "for num in range(10,20):         # 迭代 10 到 20 之间的数字\n",
    "    for i in range(2,num):       # 根据因子迭代\n",
    "        if num % i == 0:         # 确定第一个因子\n",
    "            j = num / i          # 计算第二个因子\n",
    "            print ('%d 等于 %d * %d' % (num,i,j))\n",
    "            break                # 跳出当前循环\n",
    "    else:                        # 循环的 else 部分\n",
    "        print (num, '是一个质数')"
   ]
  }
 ]
}