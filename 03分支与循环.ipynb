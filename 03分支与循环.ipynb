{
 "nbformat": 4,
 "nbformat_minor": 2,
 "metadata": {
  "language_info": {
   "name": "python",
   "codemirror_mode": {
    "name": "ipython",
    "version": 3
   },
   "version": "3.7.6-final"
  },
  "orig_nbformat": 2,
  "file_extension": ".py",
  "mimetype": "text/x-python",
  "name": "python",
  "npconvert_exporter": "python",
  "pygments_lexer": "ipython3",
  "version": 3,
  "kernelspec": {
   "name": "python3",
   "display_name": "Python 3"
  }
 },
 "cells": [
  {
   "cell_type": "markdown",
   "metadata": {},
   "source": [
    "# 分支结构（`if`语句）\n",
    "## 语法结构1\n",
    "- 判断一个条件，如果这个条件成立，就执行其包含的某条语句或某个代码块  \n",
    "- ```Python  \n",
    "if conditions:  \n",
    "    statement(s)  \n",
    "```  \n",
    "```\n",
    "## 语法结构2  \n",
    "- 判断一个条件，如果条件成立，就执行其包含的某条语包或某个代码块；如果条件不成立，就执行另外的某条语句或某个代码块\n",
    "- ```Python  \n",
    "if conditions:  \n",
    "    statement(s)\n",
    "else:\n",
    "    statement(s)\n",
    "```  \n",
    "```\n",
    "## 语法结构3\n",
    "- 判断多个条件，如果第1个条件不成立，则继续判断第2个条件，如果第2个条件还不成立，则接着判断第3个条件……\n",
    "- ```Python  \n",
    "if condition1:  \n",
    "    statement(s)\n",
    "elif condition2:\n",
    "    statement(s)\n",
    "elif condition3:\n",
    "    statement(s)\n",
    "……\n",
    "```  \n",
    "```\n",
    "## 语法结构4\n",
    "- 在第3种的情况下添加一个`else`,表示上面所有的条件均不成立的情况下，执行某条语包或某个代码块\n",
    "- ```Python  \n",
    "if condition1:  \n",
    "    statement(s)\n",
    "elif condition2:\n",
    "    statement(s)\n",
    "else:\n",
    "    statement(s)\n",
    "```  \n",
    "```\n",
    "## 语法结构5（条件表达式）\n",
    "- ```条件成立时执行的语句 if condition else 条件不成立时执行的语句```"
   ]
  },
  {
   "cell_type": "code",
   "execution_count": 1,
   "metadata": {},
   "outputs": [
    {
     "name": "stdout",
     "output_type": "stream",
     "text": "3\n3\n"
    }
   ],
   "source": [
    "# 条件表达式\n",
    "a = 3\n",
    "b = 5\n",
    "if a < b:\n",
    "    small = a\n",
    "else:\n",
    "    small = b\n",
    "print(small)\n",
    "small1 = a if a < b else b\n",
    "print(small1)"
   ]
  },
  {
   "cell_type": "markdown",
   "metadata": {},
   "source": [
    "# 分支结构的嵌套（典型结构）\n",
    "- ```Python\n",
    "if conditions:\n",
    "    statement(s)\n",
    "else:\n",
    "    if conditions:\n",
    "        statement(s)\n",
    "```\n",
    "```\n",
    "# 循环结构\n",
    "## `while`循环\n",
    "- ```Python\n",
    "while condition:\n",
    "    statement(s)\n",
    "```\n",
    "```\n",
    "## 方法`break` \n",
    "- 跳出当前一个循环 \n"
   ]
  }
 ]
}