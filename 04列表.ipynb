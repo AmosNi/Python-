{
 "nbformat": 4,
 "nbformat_minor": 2,
 "metadata": {
  "language_info": {
   "name": "python",
   "codemirror_mode": {
    "name": "ipython",
    "version": 3
   },
   "version": "3.7.6-final"
  },
  "orig_nbformat": 2,
  "file_extension": ".py",
  "mimetype": "text/x-python",
  "name": "python",
  "npconvert_exporter": "python",
  "pygments_lexer": "ipython3",
  "version": 3,
  "kernelspec": {
   "name": "python3",
   "display_name": "Python 3"
  }
 },
 "cells": [
  {
   "cell_type": "markdown",
   "metadata": {},
   "source": [
    "# 列表  \n",
    "Python没有数组；数组：集装箱；列表：仓库，可存储整数、浮点数、字符串、对象\n",
    "## 创建列表  \n",
    "`列表变量名 = [元素]`"
   ]
  },
  {
   "cell_type": "code",
   "execution_count": 7,
   "metadata": {},
   "outputs": [
    {
     "output_type": "stream",
     "name": "stdout",
     "text": "[1, 2, 3, 4, 5]\n['Amos', 'Blue']\n[1, 'Amos', [1, 2, 3]]\n[]\n"
    }
   ],
   "source": [
    "number = [1,2,3,4,5]      #普通列表\n",
    "print(number)\n",
    "member = [\"Amos\",\"Blue\"]\n",
    "print(member)\n",
    "mix = [1,'Amos',[1,2,3]]  #混合列表，列表嵌套\n",
    "print(mix)\n",
    "empty = []                #空列表\n",
    "print(empty)"
   ]
  },
  {
   "cell_type": "markdown",
   "metadata": {},
   "source": [
    "## 向列表添加元素  \n",
    "### append()方法  \n",
    "  \n",
    "#### 1. 方法原型<br/>\n",
    "- `list.append(obj)`  \n",
    "    - `append()`方法用于在列表末尾添加新的对象   \n",
    "    - “.”相当于提示作用域\n",
    "    \n",
    "#### 2. 参数解析<br/>\n",
    "|参数|含义|\n",
    "|-|-|\n",
    "|obj| 添加到列表末尾的对象|  \n",
    "\n",
    "#### 3.返回值  \n",
    "无返回值，修改原来的列表 \n",
    "\n",
    "### extend()方法 \n",
    "  \n",
    "#### 1. 方法原型<br/>\n",
    "- `list.extend(obj)`  \n",
    "    - `extend()`用于在列表末尾一次性追加另一个序列中的多个值（用新列表扩展原来的列表）\n",
    "  \n",
    "#### 2. 参数解析<br/>\n",
    "|参数|含义|\n",
    "|-|-|\n",
    "|seq| 元素列表|  \n",
    "\n",
    "#### 3.返回值  \n",
    "无返回值，但会在已存在的列表中添加新的列表内容  \n",
    "\n",
    "### insert()方法  \n",
    "\n",
    "#### 1. 方法原型  \n",
    "- `list.insert(index, obj)`  \n",
    "    - `insert()`用于将指定对象插入列表的指定位置 \n",
    "    \n",
    "#### 2. 参数解析<br/>\n",
    "|参数|含义|\n",
    "|-|-|\n",
    "|index| 对象`obj`需要插入的索引位置|\n",
    "|obj| 要插入列表中的对象|  \n",
    "\n",
    "#### 3.返回值  \n",
    "无返回值，但会在列表指定位置插入对象 \n",
    "\n",
    "## 注意：列表为空时，位置参数无效  \n",
    "## 注意：  \n",
    "`append() takes exactly 1 arguments (2 given)`  `append()`仅支持一个元素  \n",
    "`extend() takes exactly 1 arguments (2 given)`  `extend()`仅支持一个元素，故以列表形式添加  \n",
    "`insert() takes exactly 2 arguments (3 given)`  `insert()`仅插入支持一个元素"
   ]
  },
  {
   "cell_type": "code",
   "execution_count": 18,
   "metadata": {},
   "outputs": [
    {
     "output_type": "stream",
     "name": "stdout",
     "text": "2 ['Amos', 'Blue']\n3 ['Amos', 'Blue', 'Welcome']\n5 ['Amos', 'Blue', 'Welcome', 'Ni', 'Chen']\n6 [1, 'Amos', 'Blue', 'Welcome', 'Ni', 'Chen']\n7 [1, ['Member List', 'Home'], 'Amos', 'Blue', 'Welcome', 'Ni', 'Chen']\n"
    }
   ],
   "source": [
    "member = [\"Amos\",\"Blue\"]\n",
    "print(len(member), member)\n",
    "member.append(\"Welcome\")\n",
    "print(len(member), member)\n",
    "member.extend([\"Ni\",\"Chen\"])  #用列表扩张列表\n",
    "print(len(member), member)\n",
    "member.insert(0,1)            #Python列表索引值index从0开始\n",
    "print(len(member), member)\n",
    "member.insert(1,[\"Member List\",\"Home\"])  #插入只能一个\n",
    "print(len(member), member)"
   ]
  },
  {
   "cell_type": "code",
   "execution_count": 20,
   "metadata": {},
   "outputs": [
    {
     "output_type": "stream",
     "name": "stdout",
     "text": "['C', 'A', 'B']\n"
    }
   ],
   "source": [
    "#实现对列表的重新排序\n",
    "list1 = ['A','B','C']\n",
    "list2 = []\n",
    "for i in range (3):\n",
    "    order = int(input('你要把'+list1[i]+'放在第几位？（请输入数字1,2,3):'))\n",
    "    list2.insert(order - 1, list1[i])\n",
    "print(list2)\n",
    "#你要把A放在第几位？（请输入数字1,2,3):3\n",
    "#你要把B放在第几位？（请输入数字1,2,3):2\n",
    "#你要把C放在第几位？（请输入数字1,2,3):1"
   ]
  },
  {
   "cell_type": "code",
   "execution_count": 21,
   "metadata": {},
   "outputs": [
    {
     "output_type": "stream",
     "name": "stdout",
     "text": "{3: 'A', 2: 'B', 1: 'C'}\n['C', 'B', 'A']\n"
    }
   ],
   "source": [
    "#原因：列表为空时位置参数无效\n",
    "list1 = ['A','B','C']\n",
    "dict1 = {}\n",
    "for i in range(3):\n",
    "    order = int(input('你要把'+list1[i]+'放在第几位？（请输入数字1,2,3)'))\n",
    "    dict1[order] = list1[i]\n",
    "print(dict1)  \n",
    "\n",
    "list1 = []\n",
    "# 清空原本列表list1的元素\n",
    "for i in range(1,4):\n",
    "    list1.append(dict1[i])\n",
    "print(list1)"
   ]
  },
  {
   "cell_type": "markdown",
   "metadata": {},
   "source": [
    "## 获取列表元素  \n",
    "### list[]方法  \n",
    "\n",
    "#### 1. 方法原型  \n",
    "- `list[index]`  \n",
    "\n",
    "#### 2. 参数解析<br/>\n",
    "|参数|含义|\n",
    "|-|-|\n",
    "|index| 列表索引值（从0开始）|  \n",
    "\n",
    "#### 3.返回值  \n",
    "索引值对应列表元素"
   ]
  },
  {
   "cell_type": "code",
   "execution_count": 8,
   "metadata": {},
   "outputs": [
    {
     "output_type": "stream",
     "name": "stdout",
     "text": "Amos\n['Blue', 'Amos', 'Welcome', 'Ni', 'Chen']\nChen\n"
    }
   ],
   "source": [
    "member = ['Amos', 'Blue', 'Welcome', 'Ni', 'Chen']\n",
    "#获取列表值\n",
    "print(member[0])\n",
    "#修改列表值\n",
    "temp = member[0]\n",
    "member[0] = member[1]\n",
    "member[1] = temp\n",
    "print(member)\n",
    "#访问列表中的列表\n",
    "member = ['Amos', 'Blue', 'Welcome', ['Ni', 'Chen']]\n",
    "print(member[3][1])"
   ]
  },
  {
   "cell_type": "markdown",
   "metadata": {},
   "source": [
    "## 移除列表元素  \n",
    "\n",
    "### remove()方法  \n",
    "\n",
    "#### 1. 方法原型  \n",
    "- `list.remove(obj)`\n",
    "    - `remove()`方法用于移除列表中某个值的**第一个**匹配项  \n",
    "\n",
    "#### 2. 参数解析<br/>\n",
    "|参数|含义|\n",
    "|-|-|\n",
    "|obj| 列表中要移除的对象|  \n",
    "\n",
    "#### 3.返回值  \n",
    "无返回值，但会移除列表中的某个值的**第一个**匹配项  \n",
    "\n",
    "#### 4.注意  \n",
    "不需要知道位置，只需要知道存在于列表  \n",
    "\n",
    "### del 语句  \n",
    "\n",
    "#### 1. 方法原型  \n",
    "- `del list[index]` 删除元素\n",
    "- `del list` 删除列表  \n",
    "\n",
    "#### 2. 参数解析<br/>\n",
    "|参数|含义|\n",
    "|-|-|\n",
    "|index| 列表索引值（从0开始）|  \n",
    "\n",
    "#### 3.返回值  \n",
    "删除索引值对应列表元素  \n",
    "\n",
    "### pop()方法  \n",
    "\n",
    "#### 1. 方法原型  \n",
    "- `list.pop([index=-1])`  \n",
    "    - `pop()`用于移除列表中的一个元素（默认最后一个元素），并且返回该元素的值\n",
    "    - 取出  给你  的意思  \n",
    "\n",
    "#### 2. 参数解析<br/>\n",
    "|参数|含义|\n",
    "|-|-|\n",
    "|index| 可选参数，要移除列表元素的索引值，不能超过列表总长度，默认为`index=-1`，删除最后一个列表值|  \n",
    "\n",
    "#### 3.返回值  \n",
    "返回从列表中移除的元素对象"
   ]
  },
  {
   "cell_type": "code",
   "execution_count": 4,
   "metadata": {},
   "outputs": [
    {
     "output_type": "stream",
     "name": "stdout",
     "text": "['Amos', 'Blue', 'Welcome', 'Ni', 'Chen']\n"
    }
   ],
   "source": [
    "# remove\n",
    "member = ['Amos', 'Blue', 'Welcome', 'Ni', 'Chen', 'Chen']\n",
    "member.remove(\"Chen\")\n",
    "print(member)"
   ]
  },
  {
   "cell_type": "code",
   "execution_count": 3,
   "metadata": {},
   "outputs": [
    {
     "output_type": "stream",
     "name": "stdout",
     "text": "['Amos', 'Blue', 'Welcome', 'Ni']\n"
    }
   ],
   "source": [
    "# del\n",
    "member = ['Amos', 'Blue', 'Welcome', 'Ni', 'Chen']\n",
    "del member[4]   #删除元素\n",
    "print(member)\n",
    "del member      #删除列表\n",
    "# print(member)  NameError: name 'member' is not defined"
   ]
  },
  {
   "cell_type": "code",
   "execution_count": 7,
   "metadata": {},
   "outputs": [
    {
     "output_type": "stream",
     "name": "stdout",
     "text": "Chen\n['Amos', 'Blue', 'Welcome', 'Ni']\nBlue\n['Amos', 'Welcome', 'Ni', 'Chen']\n"
    }
   ],
   "source": [
    "# pop\n",
    "# 缺省 index=-1\n",
    "member = ['Amos', 'Blue', 'Welcome', 'Ni', 'Chen']\n",
    "name = member.pop()\n",
    "print(name)\n",
    "print(member)\n",
    "# 指定索引值\n",
    "member = ['Amos', 'Blue', 'Welcome', 'Ni', 'Chen']\n",
    "name2 = member.pop(1)\n",
    "print(name2)\n",
    "print(member)"
   ]
  },
  {
   "cell_type": "markdown",
   "metadata": {},
   "source": [
    "## 列表分片\n",
    "“索引值”一个一个的取出元素，要一次性取出多个，用到“列表分片”  \n",
    "“列表分片”产生新列表，对原列表没有影响"
   ]
  },
  {
   "cell_type": "code",
   "execution_count": 11,
   "metadata": {},
   "outputs": [
    {
     "output_type": "stream",
     "name": "stdout",
     "text": "['Amos', 'Blue', 'Welcome', 'Ni', 'Chen']\n['Blue', 'Welcome']\n['Amos', 'Blue', 'Welcome']\n['Blue', 'Welcome', 'Ni', 'Chen']\n['Amos', 'Blue', 'Welcome', 'Ni', 'Chen']\n"
    }
   ],
   "source": [
    "member = ['Amos', 'Blue', 'Welcome', 'Ni', 'Chen']\n",
    "member1 = member[1:3]  #[起始：结束]\n",
    "member2 = member[:3]   #[起始缺省为0]\n",
    "member3 = member[1:]   #[结束缺省为最后一位]\n",
    "member4 = member[:]    #[全部缺省，列表拷贝]\n",
    "print(member)\n",
    "print(member1)\n",
    "print(member2)\n",
    "print(member3)\n",
    "print(member4)"
   ]
  },
  {
   "cell_type": "markdown",
   "metadata": {},
   "source": [
    "## 列表常用操作符  \n",
    "### 比较操作符  \n",
    "- 可以比较大小，有多个元素，默认从第0个开始比较，看结果  \n",
    "\n",
    "### 逻辑操作符  \n",
    "- 与and 或or 非not  \n",
    "\n",
    "### 连接操作符  \n",
    "- `+` 一般不建议使用，建议使用`list.append()`, `list.extend([])`, `list.insert()`，规范\n",
    "- 连接操作符两侧的数据类型需要一致  \n",
    "\n",
    "### 重复操作符\n",
    "- `*`  \n",
    "\n",
    "### 成员关系操作符  \n",
    "- `in`, `not in`"
   ]
  },
  {
   "cell_type": "code",
   "execution_count": 2,
   "metadata": {},
   "outputs": [
    {
     "output_type": "stream",
     "name": "stdout",
     "text": "False\nFalse\nTrue\n"
    }
   ],
   "source": [
    "#比较操作、逻辑操作\n",
    "lista = [123]\n",
    "listb = [234]\n",
    "print (lista > listb)\n",
    "lista = [123, 456]\n",
    "listb = [234, 123]\n",
    "print (lista > listb)\n",
    "listc = [123, 456]\n",
    "print ((lista < listb) and (lista == listc))"
   ]
  },
  {
   "cell_type": "code",
   "execution_count": 7,
   "metadata": {},
   "outputs": [
    {
     "output_type": "stream",
     "name": "stdout",
     "text": "[123, 456, 234, 123]\n[123, 456, 123, 456, 123, 456]\n[123, 456, 123, 456, 123, 456]\nTrue\nFalse\nTrue\nFalse\nTrue\n"
    }
   ],
   "source": [
    "#连接操作\n",
    "lista = [123, 456]\n",
    "listb = [234, 123]\n",
    "listd = lista + listb\n",
    "print (listd)\n",
    "#重复操作\n",
    "print (lista * 3)\n",
    "lista *= 3\n",
    "print (lista)\n",
    "#成员关系操作\n",
    "print (123 in lista)\n",
    "print (123 not in lista)\n",
    "print (\"amos\" not in lista)\n",
    "# in/not in 只判断一层\n",
    "liste = [123, [\"Amos\", \"Blue\"], 456]\n",
    "print (\"Amos\" in liste)\n",
    "print (\"Amos\" in liste[1])  #加索引值"
   ]
  },
  {
   "cell_type": "markdown",
   "metadata": {},
   "source": [
    "## 列表常用的方法  \n",
    "### count()方法  \n",
    "#### 1. 方法原型  \n",
    "- `list.count(obj)`  \n",
    "    - `count()`用于统计某个元素在列表中出现的次数  \n",
    "\n",
    "#### 2. 参数解析<br/>\n",
    "|参数|含义|\n",
    "|-|-|\n",
    "|obj| 列表中统计的对象|  \n",
    "\n",
    "#### 3.返回值  \n",
    "返回元素在列表中出现的次数  \n",
    "\n",
    "### index()方法  \n",
    "#### 1. 方法原型  \n",
    "- `list.index(x[, start[, end]])`  \n",
    "    - `index()`用于从列表中找出某个值第一个匹配项的索引位置  \n",
    "\n",
    "#### 2. 参数解析<br/>\n",
    "|参数|含义|\n",
    "|-|-|\n",
    "|x| 查找的对象|\n",
    "|start| 可选，查找的起始位置|\n",
    "|end| 可选，查找的结束位置|  \n",
    "\n",
    "#### 3.返回值  \n",
    "返回查找对象的索引位置，若没有找到对象则抛出异常  \n",
    "\n",
    "### reverse()方法  \n",
    "#### 1. 方法原型  \n",
    "- `list.reverse()`  \n",
    "    - `reverse()`用于反向列表中元素  \n",
    "\n",
    "#### 2. 返回值  \n",
    "无返回值，但是会对列表的元素进行反向排序  \n",
    "\n",
    "### sort()方法  \n",
    "#### 1. 方法原型  \n",
    "- `list.sort(cmp=None, key=None, reverse=False)`  \n",
    "    - `sort()`用于对原列表进行排序，如果指定参数，则使用比较函数指定的比较函数  \n",
    "\n",
    "#### 2. 参数解析<br/>\n",
    "|参数|含义|\n",
    "|-|-|\n",
    "|cmp| 可选参数, 如果指定了该参数会使用该参数的方法进行排序（排序的算法）|\n",
    "|key| 主要是用来进行比较的元素，只有一个参数，具体的函数的参数就是取自于可迭代对象中，指定可迭代对象中的一个元素来进行排序|\n",
    "|reverse| 排序规则，`reverse = True`降序，`reverse = False`升序（默认）|  \n",
    "\n",
    "#### 3.返回值  \n",
    "无返回值，但是会对列表的对象进行排序"
   ]
  },
  {
   "cell_type": "code",
   "execution_count": 7,
   "metadata": {},
   "outputs": [
    {
     "output_type": "stream",
     "name": "stdout",
     "text": "3\n0\n3\n[123, 321, 678, 123, 789, 456, 123]\n[123, 123, 123, 321, 456, 678, 789]\n[789, 678, 456, 321, 123, 123, 123]\n"
    }
   ],
   "source": [
    "#count()计算次数\n",
    "demolist = [123,456,789,123,678,321,123]\n",
    "print(demolist.count(123))\n",
    "#index()查找位置\n",
    "print(demolist.index(123))\n",
    "print(demolist.index(123,2,6))\n",
    "#reverse()反向\n",
    "# print(demolist.reverse())  输出None\n",
    "demolist.reverse()\n",
    "print(demolist)\n",
    "#sort()排序\n",
    "demolist.sort() #默认方式，从小到大\n",
    "print(demolist)\n",
    "demolist.sort(reverse=True) #从大到小排\n",
    "print(demolist)"
   ]
  },
  {
   "cell_type": "code",
   "execution_count": 9,
   "metadata": {},
   "outputs": [
    {
     "output_type": "stream",
     "name": "stdout",
     "text": "list3 = [0, 4, 61, 8, 45, 98, 2, 32]\nlist4 = [0, 4, 61, 8, 45, 98, 2, 32]\nlist5 = [0, 4, 61, 8, 45, 98, 2, 32]\nlist3 = [0, 2, 4, 8, 32, 45, 61, 98]\nlist4 = [0, 4, 61, 8, 45, 98, 2, 32]\nlist5 = [0, 2, 4, 8, 32, 45, 61, 98]\n"
    }
   ],
   "source": [
    "# 列表拷贝的意义\n",
    "list3 = [0,4,61,8,45,98,2,32]\n",
    "list4 = list3[:]  #列表分片方式进行拷贝\n",
    "list5 = list3     #列表赋值\n",
    "print (\"list3 =\", list3)\n",
    "print (\"list4 =\", list4)\n",
    "print (\"list5 =\", list5)\n",
    "list3.sort()      #列表排序\n",
    "print (\"list3 =\", list3)\n",
    "print (\"list4 =\", list4) #不随list3变化\n",
    "print (\"list5 =\", list5) #跟着list3变化"
   ]
  },
  {
   "cell_type": "markdown",
   "metadata": {},
   "source": [
    "## 注意事项\n",
    "### 有些懒是不能偷的\n",
    "### 列表的拷贝，不要用“=”，指定一个名字，事实上相当于添加一个指向的标签而已\n",
    "### 列表的拼接，不要用“+”\n",
    "### 都用列表的**方法**来解决"
   ]
  }
 ]
}