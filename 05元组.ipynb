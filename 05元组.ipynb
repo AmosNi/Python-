{
 "nbformat": 4,
 "nbformat_minor": 2,
 "metadata": {
  "language_info": {
   "name": "python",
   "codemirror_mode": {
    "name": "ipython",
    "version": 3
   },
   "version": "3.7.6-final"
  },
  "orig_nbformat": 2,
  "file_extension": ".py",
  "mimetype": "text/x-python",
  "name": "python",
  "npconvert_exporter": "python",
  "pygments_lexer": "ipython3",
  "version": 3,
  "kernelspec": {
   "name": "python3",
   "display_name": "Python 3"
  }
 },
 "cells": [
  {
   "cell_type": "markdown",
   "metadata": {},
   "source": [
    "# 元组  \n",
    "\n",
    "## 与列表的区别  \n",
    "- 不可改变的类型（元组内的元素不可变）  \n",
    "- 元组和列表在实际使用中相似  \n",
    "\n",
    "## 创建与访问一个元组\n",
    "- 大部分情况下用`()`创建元组\n",
    "- 访问元组的方式与列表相同，也是`[]`，包括切片\n",
    "\n",
    "## 元组的标志不是“()”，而是“，”\n",
    "\n",
    "## 更新和删除一个元组  \n",
    "- 通过切片方式变通进行  \n",
    "- 更新元组，新增单个元素，注意切片+时，括号、逗号缺一不可\n",
    "- 删除元组 `del`  \n",
    "\n",
    "## 元组相关操作符（同列表）  \n",
    "- 拼接操作符 `+`\n",
    "- 重复操作符 `*`\n",
    "- 关系操作符  \n",
    "- 逻辑操作符 `and`，`or`，`not`\n",
    "- 成员操作符 `in`，`not in`"
   ]
  },
  {
   "cell_type": "code",
   "execution_count": 1,
   "metadata": {},
   "outputs": [
    {
     "output_type": "stream",
     "name": "stdout",
     "text": "(1, 2, 3, 4, 5, 6, 7)\n2\n(1, 2, 3)\n"
    }
   ],
   "source": [
    "#创建元组\n",
    "tuple1 = (1,2,3,4,5,6,7)\n",
    "print (tuple1)\n",
    "#访问元组\n",
    "print (tuple1[1])\n",
    "print (tuple1[0:3])\n",
    "#元组拷贝\n",
    "tuple2 = tuple1[:]"
   ]
  },
  {
   "cell_type": "code",
   "execution_count": 2,
   "metadata": {},
   "outputs": [
    {
     "output_type": "error",
     "ename": "TypeError",
     "evalue": "'tuple' object does not support item assignment",
     "traceback": [
      "\u001b[1;31m---------------------------------------------------------------------------\u001b[0m",
      "\u001b[1;31mTypeError\u001b[0m                                 Traceback (most recent call last)",
      "\u001b[1;32m<ipython-input-2-26e8174af0ba>\u001b[0m in \u001b[0;36m<module>\u001b[1;34m\u001b[0m\n\u001b[0;32m      1\u001b[0m \u001b[1;31m#元组不可被修改\u001b[0m\u001b[1;33m\u001b[0m\u001b[1;33m\u001b[0m\u001b[1;33m\u001b[0m\u001b[0m\n\u001b[0;32m      2\u001b[0m \u001b[0mtuple1\u001b[0m \u001b[1;33m=\u001b[0m \u001b[1;33m(\u001b[0m\u001b[1;36m1\u001b[0m\u001b[1;33m,\u001b[0m\u001b[1;36m2\u001b[0m\u001b[1;33m,\u001b[0m\u001b[1;36m3\u001b[0m\u001b[1;33m,\u001b[0m\u001b[1;36m4\u001b[0m\u001b[1;33m,\u001b[0m\u001b[1;36m5\u001b[0m\u001b[1;33m,\u001b[0m\u001b[1;36m6\u001b[0m\u001b[1;33m,\u001b[0m\u001b[1;36m7\u001b[0m\u001b[1;33m)\u001b[0m\u001b[1;33m\u001b[0m\u001b[1;33m\u001b[0m\u001b[0m\n\u001b[1;32m----> 3\u001b[1;33m \u001b[0mtuple1\u001b[0m\u001b[1;33m[\u001b[0m\u001b[1;36m1\u001b[0m\u001b[1;33m]\u001b[0m \u001b[1;33m=\u001b[0m \u001b[1;36m1\u001b[0m\u001b[1;33m\u001b[0m\u001b[1;33m\u001b[0m\u001b[0m\n\u001b[0m",
      "\u001b[1;31mTypeError\u001b[0m: 'tuple' object does not support item assignment"
     ]
    }
   ],
   "source": [
    "#元组不可被修改\n",
    "tuple1 = (1,2,3,4,5,6,7)\n",
    "tuple1[1] = 1"
   ]
  },
  {
   "cell_type": "code",
   "execution_count": 8,
   "metadata": {},
   "outputs": [
    {
     "output_type": "stream",
     "name": "stdout",
     "text": "<class 'int'>\n<class 'tuple'>\n<class 'tuple'>\n<class 'tuple'> (1,)\n<class 'tuple'> (1,)\n64\n(8, 8, 8, 8, 8, 8, 8, 8)\n"
    }
   ],
   "source": [
    "# 元组的标志不是“()”，而是“，”\n",
    "temp1 = (1)\n",
    "print (type(temp1))\n",
    "temp2 = 1,2,3\n",
    "print (type(temp2))\n",
    "# 创建空元组\n",
    "temp = ()\n",
    "print (type(temp))\n",
    "# 创建单元素元组，要加“，”\n",
    "temp3 = (1,)\n",
    "print (type(temp3), temp3)\n",
    "temp4 = 1,\n",
    "print (type(temp4), temp4)\n",
    "print (8 * (8))\n",
    "print (8 * (8,))"
   ]
  },
  {
   "cell_type": "code",
   "execution_count": 15,
   "metadata": {},
   "outputs": [
    {
     "output_type": "error",
     "ename": "TypeError",
     "evalue": "can only concatenate tuple (not \"str\") to tuple",
     "traceback": [
      "\u001b[1;31m---------------------------------------------------------------------------\u001b[0m",
      "\u001b[1;31mTypeError\u001b[0m                                 Traceback (most recent call last)",
      "\u001b[1;32m<ipython-input-15-74a2e89bd645>\u001b[0m in \u001b[0;36m<module>\u001b[1;34m\u001b[0m\n\u001b[0;32m      1\u001b[0m \u001b[1;31m# 更新元组\u001b[0m\u001b[1;33m\u001b[0m\u001b[1;33m\u001b[0m\u001b[1;33m\u001b[0m\u001b[0m\n\u001b[0;32m      2\u001b[0m \u001b[0mdemotemp\u001b[0m \u001b[1;33m=\u001b[0m \u001b[1;33m(\u001b[0m\u001b[1;34m\"Amos\"\u001b[0m\u001b[1;33m,\u001b[0m \u001b[1;34m\"Blue\"\u001b[0m\u001b[1;33m,\u001b[0m \u001b[1;34m\"Ni\"\u001b[0m\u001b[1;33m,\u001b[0m \u001b[1;34m\"Chen\"\u001b[0m\u001b[1;33m)\u001b[0m\u001b[1;33m\u001b[0m\u001b[1;33m\u001b[0m\u001b[0m\n\u001b[1;32m----> 3\u001b[1;33m \u001b[0mdemotemp1\u001b[0m \u001b[1;33m=\u001b[0m \u001b[0mdemotemp\u001b[0m\u001b[1;33m[\u001b[0m\u001b[1;33m:\u001b[0m\u001b[1;36m2\u001b[0m\u001b[1;33m]\u001b[0m \u001b[1;33m+\u001b[0m \u001b[1;34m\"Welcome\"\u001b[0m\u001b[1;33m,\u001b[0m \u001b[1;33m+\u001b[0m \u001b[0mdemotemp\u001b[0m\u001b[1;33m[\u001b[0m\u001b[1;36m2\u001b[0m\u001b[1;33m:\u001b[0m\u001b[1;33m]\u001b[0m\u001b[1;33m\u001b[0m\u001b[1;33m\u001b[0m\u001b[0m\n\u001b[0m\u001b[0;32m      4\u001b[0m \u001b[0mprint\u001b[0m \u001b[1;33m(\u001b[0m\u001b[0mdemotemp1\u001b[0m\u001b[1;33m)\u001b[0m\u001b[1;33m\u001b[0m\u001b[1;33m\u001b[0m\u001b[0m\n",
      "\u001b[1;31mTypeError\u001b[0m: can only concatenate tuple (not \"str\") to tuple"
     ]
    }
   ],
   "source": [
    "# 更新元组(错误)\n",
    "demotemp = (\"Amos\", \"Blue\", \"Ni\", \"Chen\")\n",
    "demotemp1 = demotemp[:2] + \"Welcome\", + demotemp[2:]\n",
    "print (demotemp1)"
   ]
  },
  {
   "cell_type": "code",
   "execution_count": 13,
   "metadata": {},
   "outputs": [
    {
     "output_type": "error",
     "ename": "TypeError",
     "evalue": "can only concatenate tuple (not \"str\") to tuple",
     "traceback": [
      "\u001b[1;31m---------------------------------------------------------------------------\u001b[0m",
      "\u001b[1;31mTypeError\u001b[0m                                 Traceback (most recent call last)",
      "\u001b[1;32m<ipython-input-13-de17210f9148>\u001b[0m in \u001b[0;36m<module>\u001b[1;34m\u001b[0m\n\u001b[0;32m      1\u001b[0m \u001b[0mdemotemp\u001b[0m \u001b[1;33m=\u001b[0m \u001b[1;33m(\u001b[0m\u001b[1;34m\"Amos\"\u001b[0m\u001b[1;33m,\u001b[0m \u001b[1;34m\"Blue\"\u001b[0m\u001b[1;33m,\u001b[0m \u001b[1;34m\"Ni\"\u001b[0m\u001b[1;33m,\u001b[0m \u001b[1;34m\"Chen\"\u001b[0m\u001b[1;33m)\u001b[0m\u001b[1;33m\u001b[0m\u001b[1;33m\u001b[0m\u001b[0m\n\u001b[1;32m----> 2\u001b[1;33m \u001b[0mdemotemp1\u001b[0m \u001b[1;33m=\u001b[0m \u001b[0mdemotemp\u001b[0m\u001b[1;33m[\u001b[0m\u001b[1;33m:\u001b[0m\u001b[1;36m2\u001b[0m\u001b[1;33m]\u001b[0m \u001b[1;33m+\u001b[0m \u001b[1;33m(\u001b[0m\u001b[1;34m\"Welcome\"\u001b[0m\u001b[1;33m)\u001b[0m \u001b[1;33m+\u001b[0m \u001b[0mdemotemp\u001b[0m\u001b[1;33m[\u001b[0m\u001b[1;36m2\u001b[0m\u001b[1;33m:\u001b[0m\u001b[1;33m]\u001b[0m\u001b[1;33m\u001b[0m\u001b[1;33m\u001b[0m\u001b[0m\n\u001b[0m\u001b[0;32m      3\u001b[0m \u001b[0mprint\u001b[0m \u001b[1;33m(\u001b[0m\u001b[0mdemotemp1\u001b[0m\u001b[1;33m)\u001b[0m\u001b[1;33m\u001b[0m\u001b[1;33m\u001b[0m\u001b[0m\n",
      "\u001b[1;31mTypeError\u001b[0m: can only concatenate tuple (not \"str\") to tuple"
     ]
    }
   ],
   "source": [
    "# 更新元组(错误)\n",
    "demotemp = (\"Amos\", \"Blue\", \"Ni\", \"Chen\")\n",
    "demotemp1 = demotemp[:2] + (\"Welcome\") + demotemp[2:]\n",
    "print (demotemp1)"
   ]
  },
  {
   "cell_type": "code",
   "execution_count": 14,
   "metadata": {},
   "outputs": [
    {
     "output_type": "stream",
     "name": "stdout",
     "text": "('Amos', 'Blue', 'Welcome', 'Ni', 'Chen')\n"
    }
   ],
   "source": [
    "# 更新元组，括号逗号缺一不可\n",
    "demotemp = (\"Amos\", \"Blue\", \"Ni\", \"Chen\")\n",
    "demotemp1 = demotemp[:2] + (\"Welcome\",) + demotemp[2:]\n",
    "print (demotemp1)"
   ]
  },
  {
   "cell_type": "code",
   "execution_count": 3,
   "metadata": {},
   "outputs": [
    {
     "output_type": "error",
     "ename": "NameError",
     "evalue": "name 'demotemp' is not defined",
     "traceback": [
      "\u001b[1;31m---------------------------------------------------------------------------\u001b[0m",
      "\u001b[1;31mNameError\u001b[0m                                 Traceback (most recent call last)",
      "\u001b[1;32m<ipython-input-3-d7d5413c3ed1>\u001b[0m in \u001b[0;36m<module>\u001b[1;34m\u001b[0m\n\u001b[0;32m      2\u001b[0m \u001b[0mdemotemp\u001b[0m \u001b[1;33m=\u001b[0m \u001b[1;33m(\u001b[0m\u001b[1;34m\"Amos\"\u001b[0m\u001b[1;33m,\u001b[0m \u001b[1;34m\"Blue\"\u001b[0m\u001b[1;33m,\u001b[0m \u001b[1;34m\"Ni\"\u001b[0m\u001b[1;33m,\u001b[0m \u001b[1;34m\"Chen\"\u001b[0m\u001b[1;33m)\u001b[0m\u001b[1;33m\u001b[0m\u001b[1;33m\u001b[0m\u001b[0m\n\u001b[0;32m      3\u001b[0m \u001b[1;32mdel\u001b[0m \u001b[0mdemotemp\u001b[0m\u001b[1;33m\u001b[0m\u001b[1;33m\u001b[0m\u001b[0m\n\u001b[1;32m----> 4\u001b[1;33m \u001b[0mdemotemp\u001b[0m\u001b[1;33m\u001b[0m\u001b[1;33m\u001b[0m\u001b[0m\n\u001b[0m",
      "\u001b[1;31mNameError\u001b[0m: name 'demotemp' is not defined"
     ]
    }
   ],
   "source": [
    "#删除元组del，很少使用\n",
    "demotemp = (\"Amos\", \"Blue\", \"Ni\", \"Chen\")\n",
    "del demotemp\n",
    "demotemp"
   ]
  }
 ]
}